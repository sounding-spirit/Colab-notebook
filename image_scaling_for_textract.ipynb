{
  "nbformat": 4,
  "nbformat_minor": 0,
  "metadata": {
    "colab": {
      "provenance": []
    },
    "kernelspec": {
      "name": "python3",
      "display_name": "Python 3"
    },
    "language_info": {
      "name": "python"
    }
  },
  "cells": [
    {
      "cell_type": "markdown",
      "source": [
        "1. reduce number of pixels\n",
        "2. <a href=\"https://stackoverflow.com/questions/10607468/how-to-reduce-the-image-file-size-using-pil\">use PIL optimize</a>\n",
        "3. binarize the image (might be a possible solution)\n",
        "4. <a href=\"https://stackoverflow.com/questions/60631919/detect-and-split-image-for-ocr\">crop the image</a> (not recommended)"
      ],
      "metadata": {
        "id": "dzLc5_248VzU"
      }
    },
    {
      "cell_type": "markdown",
      "source": [
        "Binarize note: <br/>\n",
        "Theoreotically, reducing three channels to one channel can significantly reduce the image file size. However, I could not find such a format that stores one channel instead of three. If the color is stored in three channels, the size won't change even though some information are not needed. <br/>\n",
        "Ex: <br/>\n",
        "three channel (current) -> 33 33 33 <br/>\n",
        "one channel (optimal) -> 33<br/>"
      ],
      "metadata": {
        "id": "huqUZSFGOtvC"
      }
    },
    {
      "cell_type": "code",
      "source": [
        "# mount google drive to access files\n",
        "from google.colab import drive\n",
        "drive.mount('/content/drive')"
      ],
      "metadata": {
        "colab": {
          "base_uri": "https://localhost:8080/"
        },
        "id": "6NsDHjcUJS9K",
        "outputId": "ddfc21e1-ca6c-4708-a28a-138a06e9a696"
      },
      "execution_count": null,
      "outputs": [
        {
          "output_type": "stream",
          "name": "stdout",
          "text": [
            "Drive already mounted at /content/drive; to attempt to forcibly remount, call drive.mount(\"/content/drive\", force_remount=True).\n"
          ]
        }
      ]
    },
    {
      "cell_type": "code",
      "execution_count": null,
      "metadata": {
        "colab": {
          "base_uri": "https://localhost:8080/"
        },
        "id": "mLX62-QrE-Rc",
        "outputId": "4603cd9f-6be2-4c0d-cf62-9ef9480f0d4d"
      },
      "outputs": [
        {
          "output_type": "stream",
          "name": "stdout",
          "text": [
            "1824174\n",
            "1726926\n"
          ]
        }
      ],
      "source": [
        "# sample script for saving using PIL optimize\n",
        "from PIL import Image\n",
        "import requests\n",
        "from io import BytesIO\n",
        "import os\n",
        "\n",
        "foo = Image.open(\"/content/drive/MyDrive/Sounding_Spirit/1883-Gospel-SBT-0278.jpg\")\n",
        "# foo = foo.resize((160,300),Image.ANTIALIAS)\n",
        "foo.save('image.jpg')\n",
        "foo.save('image_opt.jpg', optimize=True)\n",
        "print(os.path.getsize('image.jpg')) # image becomes larger after save\n",
        "print(os.path.getsize('image_opt.jpg')) # the optimized image is still larger than the original file, but 5% smaller compared to the one above"
      ]
    }
  ]
}