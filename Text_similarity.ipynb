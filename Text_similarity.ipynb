{
  "nbformat": 4,
  "nbformat_minor": 0,
  "metadata": {
    "colab": {
      "provenance": []
    },
    "kernelspec": {
      "name": "python3",
      "display_name": "Python 3"
    },
    "language_info": {
      "name": "python"
    }
  },
  "cells": [
    {
      "cell_type": "code",
      "execution_count": null,
      "metadata": {
        "colab": {
          "base_uri": "https://localhost:8080/"
        },
        "id": "ObOJ9RxEvMmk",
        "outputId": "3161cd01-b800-43dd-82ad-39881a2aaaa3"
      },
      "outputs": [
        {
          "output_type": "stream",
          "name": "stdout",
          "text": [
            "similarity from A and B: 0.5454545454545455\n",
            "similarity from A and C: 0.9090909090909092\n"
          ]
        }
      ],
      "source": [
        "from sklearn.feature_extraction.text import CountVectorizer\n",
        "from sklearn.metrics.pairwise import cosine_similarity\n",
        "\n",
        "# a simple text tokenizer\n",
        "def tokenize(text):\n",
        "    return text.split(\" \")\n",
        "\n",
        "# create a vectorizer for generating similarity\n",
        "vectorizer = CountVectorizer(tokenizer = tokenize, token_pattern=None)\n",
        "\n",
        "# sample texts\n",
        "text_A = \"The cat lazily stretched out on the sun-warmed windowsill.\"\n",
        "text_B = \"The feline leisurely extended itself on the sunlight-kissed windowsill.\"\n",
        "text_C = \"The cat happily stretched out on the sun-warmed windowsill.\"\n",
        "\n",
        "# compare text A and text B\n",
        "vectorized_documents = vectorizer.fit_transform([text_A, text_B])\n",
        "cos_sim = cosine_similarity(vectorized_documents)[0,1]\n",
        "print(\"similarity between A and B:\",cos_sim)\n",
        "\n",
        "# compare text A and text C\n",
        "vectorized_documents = vectorizer.fit_transform([text_A, text_C])\n",
        "cos_sim = cosine_similarity(vectorized_documents)[0,1]\n",
        "print(\"similarity between A and C:\",cos_sim)"
      ]
    },
    {
      "cell_type": "markdown",
      "source": [
        "Idea: sort all documents by year of publication, and then find cosine similarity for every pair of texts<br/>\n",
        "Plot the data into a square of cells and use color to show similarity<br>\n",
        "Might show how work in a period is similiar to work in another period"
      ],
      "metadata": {
        "id": "YCeWBV7oweq5"
      }
    },
    {
      "cell_type": "code",
      "source": [
        "# Sample data: http://sounding-spirit-sftp-upload.s3-website-us-east-1.amazonaws.com/textract_output/19xx-Himnos-EMU/ocr/\n",
        "# this section of code cannot be run yet\n",
        "data = []\n",
        "for x in range(10):\n",
        "  data.append([])\n",
        "  for y in range(10):\n",
        "    vectorized_documents = vectorizer.fit_transform([text[x], text[y]])\n",
        "    cos_sim = cosine_similarity(vectorized_documents)[0,1]\n",
        "    data[x].append(cos_sim)\n",
        "data"
      ],
      "metadata": {
        "id": "KaWkofWhMJwo"
      },
      "execution_count": null,
      "outputs": []
    },
    {
      "cell_type": "code",
      "source": [
        "# create a sample dataset\n",
        "data = []\n",
        "for x in range(10):\n",
        "  data.append([])\n",
        "  for y in range(10):\n",
        "    data[x].append(x+y)\n",
        "data"
      ],
      "metadata": {
        "colab": {
          "base_uri": "https://localhost:8080/"
        },
        "id": "hVGcer4lL4YO",
        "outputId": "4459c0e4-c73c-4999-bb54-dc02906df144"
      },
      "execution_count": null,
      "outputs": [
        {
          "output_type": "execute_result",
          "data": {
            "text/plain": [
              "[[0, 1, 2, 3, 4, 5, 6, 7, 8, 9],\n",
              " [1, 2, 3, 4, 5, 6, 7, 8, 9, 10],\n",
              " [2, 3, 4, 5, 6, 7, 8, 9, 10, 11],\n",
              " [3, 4, 5, 6, 7, 8, 9, 10, 11, 12],\n",
              " [4, 5, 6, 7, 8, 9, 10, 11, 12, 13],\n",
              " [5, 6, 7, 8, 9, 10, 11, 12, 13, 14],\n",
              " [6, 7, 8, 9, 10, 11, 12, 13, 14, 15],\n",
              " [7, 8, 9, 10, 11, 12, 13, 14, 15, 16],\n",
              " [8, 9, 10, 11, 12, 13, 14, 15, 16, 17],\n",
              " [9, 10, 11, 12, 13, 14, 15, 16, 17, 18]]"
            ]
          },
          "metadata": {},
          "execution_count": 1
        }
      ]
    },
    {
      "cell_type": "code",
      "source": [
        "# generate a heat map based on the data\n",
        "import numpy as np\n",
        "import seaborn as sn\n",
        "import matplotlib.pyplot as plt\n",
        "vmin = 0\n",
        "vmax = 100\n",
        "\n",
        "# plotting the heatmap\n",
        "hm = sn.heatmap(data=data)"
      ],
      "metadata": {
        "colab": {
          "base_uri": "https://localhost:8080/",
          "height": 435
        },
        "id": "KUwR8l-uLSx7",
        "outputId": "2f9023bd-3017-4b4e-f66d-26c6bc486921"
      },
      "execution_count": null,
      "outputs": [
        {
          "output_type": "display_data",
          "data": {
            "text/plain": [
              "<Figure size 640x480 with 2 Axes>"
            ],
            "image/png": "[encoded data removed]"
          },
          "metadata": {}
        }
      ]
    },
    {
      "cell_type": "markdown",
      "source": [
        "cosine similarity:\n",
        "*   measure document similarity in text analysis\n",
        "*   range between 0 and 1\n",
        "*   word order does not matter\n",
        "\n"
      ],
      "metadata": {
        "id": "jXBxqFZfJFt4"
      }
    },
    {
      "cell_type": "markdown",
      "source": [
        "Ideas: <br/>\n",
        "Use dendrogram plot<br/>\n",
        "Find frequent words in time periods<br/>\n",
        "Investigate meters used in different times<br/>\n",
        "book position - sylable<br/>"
      ],
      "metadata": {
        "id": "Krk4WcFO5VZX"
      }
    }
  ]
}